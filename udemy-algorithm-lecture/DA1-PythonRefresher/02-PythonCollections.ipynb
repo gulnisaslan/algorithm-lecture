{
 "cells": [
  {
   "cell_type": "code",
   "execution_count": 25,
   "id": "cce06203",
   "metadata": {},
   "outputs": [],
   "source": [
    "#List"
   ]
  },
  {
   "cell_type": "code",
   "execution_count": 2,
   "id": "922a8453",
   "metadata": {},
   "outputs": [],
   "source": [
    "myList = [1,2,3,4,5,6,7]"
   ]
  },
  {
   "cell_type": "code",
   "execution_count": 3,
   "id": "8f58690c",
   "metadata": {},
   "outputs": [
    {
     "data": {
      "text/plain": [
       "list"
      ]
     },
     "execution_count": 3,
     "metadata": {},
     "output_type": "execute_result"
    }
   ],
   "source": [
    "type(myList)"
   ]
  },
  {
   "cell_type": "code",
   "execution_count": 4,
   "id": "98c3d2a1",
   "metadata": {},
   "outputs": [],
   "source": [
    "myOtherList = list()"
   ]
  },
  {
   "cell_type": "code",
   "execution_count": 5,
   "id": "ae279ce9",
   "metadata": {},
   "outputs": [],
   "source": [
    "myOtherList.append(\"a\")"
   ]
  },
  {
   "cell_type": "code",
   "execution_count": 6,
   "id": "dc2e6b14",
   "metadata": {},
   "outputs": [],
   "source": [
    "myOtherList.append(\"b\")"
   ]
  },
  {
   "cell_type": "code",
   "execution_count": 7,
   "id": "b98af8f7",
   "metadata": {},
   "outputs": [
    {
     "data": {
      "text/plain": [
       "['a', 'b']"
      ]
     },
     "execution_count": 7,
     "metadata": {},
     "output_type": "execute_result"
    }
   ],
   "source": [
    "myOtherList"
   ]
  },
  {
   "cell_type": "code",
   "execution_count": 8,
   "id": "c8ca5443",
   "metadata": {},
   "outputs": [],
   "source": [
    "myMixedList = [1,2,3,4.5,5.5,\"atil\",True]"
   ]
  },
  {
   "cell_type": "code",
   "execution_count": 10,
   "id": "536c714f",
   "metadata": {},
   "outputs": [
    {
     "data": {
      "text/plain": [
       "4.5"
      ]
     },
     "execution_count": 10,
     "metadata": {},
     "output_type": "execute_result"
    }
   ],
   "source": [
    "myMixedList[3]"
   ]
  },
  {
   "cell_type": "code",
   "execution_count": 11,
   "id": "7ebe8147",
   "metadata": {},
   "outputs": [],
   "source": [
    "x = myMixedList[0]"
   ]
  },
  {
   "cell_type": "code",
   "execution_count": 12,
   "id": "81721887",
   "metadata": {},
   "outputs": [
    {
     "data": {
      "text/plain": [
       "int"
      ]
     },
     "execution_count": 12,
     "metadata": {},
     "output_type": "execute_result"
    }
   ],
   "source": [
    "type(x)"
   ]
  },
  {
   "cell_type": "code",
   "execution_count": 13,
   "id": "3762c2ff",
   "metadata": {},
   "outputs": [],
   "source": [
    "y = myMixedList[3]"
   ]
  },
  {
   "cell_type": "code",
   "execution_count": 14,
   "id": "fbfb8cf6",
   "metadata": {},
   "outputs": [
    {
     "data": {
      "text/plain": [
       "float"
      ]
     },
     "execution_count": 14,
     "metadata": {},
     "output_type": "execute_result"
    }
   ],
   "source": [
    "type(y)"
   ]
  },
  {
   "cell_type": "code",
   "execution_count": 15,
   "id": "8df583f2",
   "metadata": {},
   "outputs": [
    {
     "data": {
      "text/plain": [
       "[1, 2, 3, 4.5, 5.5, 'atil', True]"
      ]
     },
     "execution_count": 15,
     "metadata": {},
     "output_type": "execute_result"
    }
   ],
   "source": [
    "myMixedList"
   ]
  },
  {
   "cell_type": "code",
   "execution_count": 19,
   "id": "4ee858ca",
   "metadata": {},
   "outputs": [
    {
     "data": {
      "text/plain": [
       "[1, 2, 3]"
      ]
     },
     "execution_count": 19,
     "metadata": {},
     "output_type": "execute_result"
    }
   ],
   "source": [
    "myMixedList[:3]"
   ]
  },
  {
   "cell_type": "code",
   "execution_count": 20,
   "id": "b5e0cde8",
   "metadata": {},
   "outputs": [],
   "source": [
    "myNestedList = [1,2,3,[\"a\",\"b\"],[10,20]]"
   ]
  },
  {
   "cell_type": "code",
   "execution_count": 22,
   "id": "fb096148",
   "metadata": {},
   "outputs": [
    {
     "data": {
      "text/plain": [
       "'b'"
      ]
     },
     "execution_count": 22,
     "metadata": {},
     "output_type": "execute_result"
    }
   ],
   "source": [
    "myNestedList[3][1]"
   ]
  },
  {
   "cell_type": "code",
   "execution_count": 23,
   "id": "b3a4cda7",
   "metadata": {},
   "outputs": [],
   "source": [
    "myNestedList[0] = 100"
   ]
  },
  {
   "cell_type": "code",
   "execution_count": 24,
   "id": "de04fbf2",
   "metadata": {},
   "outputs": [
    {
     "data": {
      "text/plain": [
       "[100, 2, 3, ['a', 'b'], [10, 20]]"
      ]
     },
     "execution_count": 24,
     "metadata": {},
     "output_type": "execute_result"
    }
   ],
   "source": [
    "myNestedList"
   ]
  },
  {
   "cell_type": "code",
   "execution_count": 26,
   "id": "e0dae788",
   "metadata": {},
   "outputs": [],
   "source": [
    "#Dictionary (key-value pairing)"
   ]
  },
  {
   "cell_type": "code",
   "execution_count": 27,
   "id": "a01451b8",
   "metadata": {},
   "outputs": [],
   "source": [
    "myDictionary = {\"apple\":100,\"banana\":200,\"melon\":300}"
   ]
  },
  {
   "cell_type": "code",
   "execution_count": 28,
   "id": "e5637c4f",
   "metadata": {},
   "outputs": [
    {
     "data": {
      "text/plain": [
       "dict"
      ]
     },
     "execution_count": 28,
     "metadata": {},
     "output_type": "execute_result"
    }
   ],
   "source": [
    "type(myDictionary)"
   ]
  },
  {
   "cell_type": "code",
   "execution_count": 32,
   "id": "ec840059",
   "metadata": {},
   "outputs": [],
   "source": [
    "myDictionary[\"apple\"] = 200"
   ]
  },
  {
   "cell_type": "code",
   "execution_count": 33,
   "id": "de9748b5",
   "metadata": {},
   "outputs": [
    {
     "data": {
      "text/plain": [
       "{'apple': 200, 'banana': 200, 'melon': 300}"
      ]
     },
     "execution_count": 33,
     "metadata": {},
     "output_type": "execute_result"
    }
   ],
   "source": [
    "myDictionary"
   ]
  },
  {
   "cell_type": "code",
   "execution_count": 47,
   "id": "b53b2849",
   "metadata": {},
   "outputs": [
    {
     "data": {
      "text/plain": [
       "0"
      ]
     },
     "execution_count": 47,
     "metadata": {},
     "output_type": "execute_result"
    }
   ],
   "source": [
    "myDictionary.get(\"atil\",0)"
   ]
  },
  {
   "cell_type": "code",
   "execution_count": 49,
   "id": "75d21117",
   "metadata": {},
   "outputs": [
    {
     "data": {
      "text/plain": [
       "300"
      ]
     },
     "execution_count": 49,
     "metadata": {},
     "output_type": "execute_result"
    }
   ],
   "source": [
    "myDictionary.pop(\"melon\")"
   ]
  },
  {
   "cell_type": "code",
   "execution_count": 51,
   "id": "234d13df",
   "metadata": {},
   "outputs": [],
   "source": [
    "myDictionary[\"atil\"] = 400"
   ]
  },
  {
   "cell_type": "code",
   "execution_count": 52,
   "id": "a13d8015",
   "metadata": {},
   "outputs": [
    {
     "data": {
      "text/plain": [
       "{'apple': 200, 'banana': 200, 'atil': 400}"
      ]
     },
     "execution_count": 52,
     "metadata": {},
     "output_type": "execute_result"
    }
   ],
   "source": [
    "myDictionary"
   ]
  },
  {
   "cell_type": "code",
   "execution_count": 53,
   "id": "3dc3962c",
   "metadata": {},
   "outputs": [],
   "source": [
    "myOtherDictionary = {\"a\":100,\"b\":[1,2,3,4,5],\"c\":4.4,\"d\":True}"
   ]
  },
  {
   "cell_type": "code",
   "execution_count": 55,
   "id": "e7015d52",
   "metadata": {},
   "outputs": [
    {
     "data": {
      "text/plain": [
       "1"
      ]
     },
     "execution_count": 55,
     "metadata": {},
     "output_type": "execute_result"
    }
   ],
   "source": [
    "myOtherDictionary[\"b\"][0]"
   ]
  },
  {
   "cell_type": "code",
   "execution_count": 56,
   "id": "876b7a33",
   "metadata": {},
   "outputs": [],
   "source": [
    "#set"
   ]
  },
  {
   "cell_type": "code",
   "execution_count": 59,
   "id": "c0aba98d",
   "metadata": {},
   "outputs": [],
   "source": [
    "mySet = {1,2,3,4}"
   ]
  },
  {
   "cell_type": "code",
   "execution_count": 60,
   "id": "3e709284",
   "metadata": {},
   "outputs": [
    {
     "data": {
      "text/plain": [
       "set"
      ]
     },
     "execution_count": 60,
     "metadata": {},
     "output_type": "execute_result"
    }
   ],
   "source": [
    "type(mySet)"
   ]
  },
  {
   "cell_type": "code",
   "execution_count": 61,
   "id": "06e34119",
   "metadata": {},
   "outputs": [],
   "source": [
    "myEmptySet = set()"
   ]
  },
  {
   "cell_type": "code",
   "execution_count": 62,
   "id": "289eff8c",
   "metadata": {},
   "outputs": [],
   "source": [
    "mySet = {1,1,1,1,1,2,3}"
   ]
  },
  {
   "cell_type": "code",
   "execution_count": 63,
   "id": "8b2db105",
   "metadata": {},
   "outputs": [
    {
     "data": {
      "text/plain": [
       "{1, 2, 3}"
      ]
     },
     "execution_count": 63,
     "metadata": {},
     "output_type": "execute_result"
    }
   ],
   "source": [
    "mySet"
   ]
  },
  {
   "cell_type": "code",
   "execution_count": 64,
   "id": "81cf1a5f",
   "metadata": {},
   "outputs": [],
   "source": [
    "mySet = {\"a\",\"a\",\"a\",\"b\"}"
   ]
  },
  {
   "cell_type": "code",
   "execution_count": 65,
   "id": "ba349817",
   "metadata": {},
   "outputs": [
    {
     "data": {
      "text/plain": [
       "{'a', 'b'}"
      ]
     },
     "execution_count": 65,
     "metadata": {},
     "output_type": "execute_result"
    }
   ],
   "source": [
    "mySet"
   ]
  },
  {
   "cell_type": "code",
   "execution_count": 66,
   "id": "e4868553",
   "metadata": {},
   "outputs": [],
   "source": [
    "mySet.add(\"c\")"
   ]
  },
  {
   "cell_type": "code",
   "execution_count": 67,
   "id": "09788878",
   "metadata": {},
   "outputs": [
    {
     "data": {
      "text/plain": [
       "{'a', 'b', 'c'}"
      ]
     },
     "execution_count": 67,
     "metadata": {},
     "output_type": "execute_result"
    }
   ],
   "source": [
    "mySet"
   ]
  },
  {
   "cell_type": "code",
   "execution_count": 68,
   "id": "228110fa",
   "metadata": {},
   "outputs": [],
   "source": [
    "#tuple"
   ]
  },
  {
   "cell_type": "code",
   "execution_count": 69,
   "id": "9a7a3409",
   "metadata": {},
   "outputs": [],
   "source": [
    "myList = [1,2,3,4,5,1,2,3]"
   ]
  },
  {
   "cell_type": "code",
   "execution_count": 70,
   "id": "844f13cd",
   "metadata": {},
   "outputs": [
    {
     "data": {
      "text/plain": [
       "[1, 2, 3, 4, 5, 1, 2, 3]"
      ]
     },
     "execution_count": 70,
     "metadata": {},
     "output_type": "execute_result"
    }
   ],
   "source": [
    "myList"
   ]
  },
  {
   "cell_type": "code",
   "execution_count": 71,
   "id": "5907a3c9",
   "metadata": {},
   "outputs": [],
   "source": [
    "myTuple = (1,2,3,4,5,1,2,3)"
   ]
  },
  {
   "cell_type": "code",
   "execution_count": 72,
   "id": "8839ca9a",
   "metadata": {},
   "outputs": [
    {
     "data": {
      "text/plain": [
       "(1, 2, 3, 4, 5, 1, 2, 3)"
      ]
     },
     "execution_count": 72,
     "metadata": {},
     "output_type": "execute_result"
    }
   ],
   "source": [
    "myTuple"
   ]
  },
  {
   "cell_type": "code",
   "execution_count": 76,
   "id": "3013ab90",
   "metadata": {},
   "outputs": [
    {
     "data": {
      "text/plain": [
       "2"
      ]
     },
     "execution_count": 76,
     "metadata": {},
     "output_type": "execute_result"
    }
   ],
   "source": [
    "myTuple.count(2)"
   ]
  },
  {
   "cell_type": "code",
   "execution_count": 77,
   "id": "d37ad18d",
   "metadata": {},
   "outputs": [],
   "source": [
    "#tuple unpacking"
   ]
  },
  {
   "cell_type": "code",
   "execution_count": 78,
   "id": "12c90811",
   "metadata": {},
   "outputs": [],
   "source": [
    "(x,y) = (5,4)"
   ]
  },
  {
   "cell_type": "code",
   "execution_count": 79,
   "id": "3fa29a42",
   "metadata": {},
   "outputs": [
    {
     "data": {
      "text/plain": [
       "5"
      ]
     },
     "execution_count": 79,
     "metadata": {},
     "output_type": "execute_result"
    }
   ],
   "source": [
    "x"
   ]
  },
  {
   "cell_type": "code",
   "execution_count": 80,
   "id": "53de9520",
   "metadata": {},
   "outputs": [
    {
     "data": {
      "text/plain": [
       "4"
      ]
     },
     "execution_count": 80,
     "metadata": {},
     "output_type": "execute_result"
    }
   ],
   "source": [
    "y"
   ]
  },
  {
   "cell_type": "code",
   "execution_count": 81,
   "id": "15949660",
   "metadata": {},
   "outputs": [],
   "source": [
    "myTemp = x"
   ]
  },
  {
   "cell_type": "code",
   "execution_count": 82,
   "id": "a9b6c32e",
   "metadata": {},
   "outputs": [],
   "source": [
    "x = y"
   ]
  },
  {
   "cell_type": "code",
   "execution_count": 83,
   "id": "ebfee900",
   "metadata": {},
   "outputs": [],
   "source": [
    "y = myTemp"
   ]
  },
  {
   "cell_type": "code",
   "execution_count": 84,
   "id": "8a6241ab",
   "metadata": {},
   "outputs": [
    {
     "data": {
      "text/plain": [
       "4"
      ]
     },
     "execution_count": 84,
     "metadata": {},
     "output_type": "execute_result"
    }
   ],
   "source": [
    "x"
   ]
  },
  {
   "cell_type": "code",
   "execution_count": 85,
   "id": "96c034d3",
   "metadata": {},
   "outputs": [
    {
     "data": {
      "text/plain": [
       "5"
      ]
     },
     "execution_count": 85,
     "metadata": {},
     "output_type": "execute_result"
    }
   ],
   "source": [
    "y"
   ]
  },
  {
   "cell_type": "code",
   "execution_count": 86,
   "id": "b9c3584d",
   "metadata": {},
   "outputs": [],
   "source": [
    "(m,n) = (10,20)"
   ]
  },
  {
   "cell_type": "code",
   "execution_count": 87,
   "id": "33749a8c",
   "metadata": {},
   "outputs": [],
   "source": [
    "(m,n) = (n,m)"
   ]
  },
  {
   "cell_type": "code",
   "execution_count": 88,
   "id": "22807b2d",
   "metadata": {},
   "outputs": [
    {
     "data": {
      "text/plain": [
       "20"
      ]
     },
     "execution_count": 88,
     "metadata": {},
     "output_type": "execute_result"
    }
   ],
   "source": [
    "m"
   ]
  },
  {
   "cell_type": "code",
   "execution_count": 89,
   "id": "65bd1de0",
   "metadata": {},
   "outputs": [
    {
     "data": {
      "text/plain": [
       "10"
      ]
     },
     "execution_count": 89,
     "metadata": {},
     "output_type": "execute_result"
    }
   ],
   "source": [
    "n"
   ]
  },
  {
   "cell_type": "code",
   "execution_count": 90,
   "id": "f1ee84a2",
   "metadata": {},
   "outputs": [],
   "source": [
    "myInt = 10"
   ]
  },
  {
   "cell_type": "code",
   "execution_count": 91,
   "id": "b2ee86fa",
   "metadata": {},
   "outputs": [
    {
     "data": {
      "text/plain": [
       "'10'"
      ]
     },
     "execution_count": 91,
     "metadata": {},
     "output_type": "execute_result"
    }
   ],
   "source": [
    "str(myInt)"
   ]
  },
  {
   "cell_type": "code",
   "execution_count": 92,
   "id": "2d285c0a",
   "metadata": {},
   "outputs": [
    {
     "data": {
      "text/plain": [
       "40"
      ]
     },
     "execution_count": 92,
     "metadata": {},
     "output_type": "execute_result"
    }
   ],
   "source": [
    "int(\"40\")"
   ]
  },
  {
   "cell_type": "code",
   "execution_count": 94,
   "id": "f08aacf5",
   "metadata": {},
   "outputs": [
    {
     "name": "stdout",
     "output_type": "stream",
     "text": [
      "enter age: 35\n"
     ]
    }
   ],
   "source": [
    "userAge = input(\"enter age: \")"
   ]
  },
  {
   "cell_type": "code",
   "execution_count": 98,
   "id": "1b99e8a2",
   "metadata": {},
   "outputs": [
    {
     "data": {
      "text/plain": [
       "70"
      ]
     },
     "execution_count": 98,
     "metadata": {},
     "output_type": "execute_result"
    }
   ],
   "source": [
    "int(userAge) * 2"
   ]
  },
  {
   "cell_type": "code",
   "execution_count": null,
   "id": "fe9cca34",
   "metadata": {},
   "outputs": [],
   "source": []
  },
  {
   "cell_type": "code",
   "execution_count": 100,
   "id": "b5e1853d",
   "metadata": {},
   "outputs": [
    {
     "data": {
      "text/plain": [
       "4.8"
      ]
     },
     "execution_count": 100,
     "metadata": {},
     "output_type": "execute_result"
    }
   ],
   "source": [
    "2.4 * 2"
   ]
  },
  {
   "cell_type": "code",
   "execution_count": 101,
   "id": "c5b809e7",
   "metadata": {},
   "outputs": [],
   "source": [
    "myFloat = 4.8"
   ]
  },
  {
   "cell_type": "code",
   "execution_count": 102,
   "id": "7a5b57f8",
   "metadata": {},
   "outputs": [
    {
     "data": {
      "text/plain": [
       "4"
      ]
     },
     "execution_count": 102,
     "metadata": {},
     "output_type": "execute_result"
    }
   ],
   "source": [
    "int(myFloat)"
   ]
  },
  {
   "cell_type": "code",
   "execution_count": 103,
   "id": "91f3954e",
   "metadata": {},
   "outputs": [],
   "source": [
    "myList = [1,2,3,4,5,1,2,3,4,5,1,2,3]"
   ]
  },
  {
   "cell_type": "code",
   "execution_count": 105,
   "id": "bf85e00b",
   "metadata": {},
   "outputs": [],
   "source": [
    "mySet = set(myList)"
   ]
  },
  {
   "cell_type": "code",
   "execution_count": 106,
   "id": "6804d17a",
   "metadata": {},
   "outputs": [
    {
     "data": {
      "text/plain": [
       "{1, 2, 3, 4, 5}"
      ]
     },
     "execution_count": 106,
     "metadata": {},
     "output_type": "execute_result"
    }
   ],
   "source": [
    "mySet"
   ]
  },
  {
   "cell_type": "code",
   "execution_count": 107,
   "id": "be9324b1",
   "metadata": {},
   "outputs": [],
   "source": [
    "myDictionary = {\"apple\":100,\"banana\":200}"
   ]
  },
  {
   "cell_type": "code",
   "execution_count": 108,
   "id": "220a2764",
   "metadata": {},
   "outputs": [
    {
     "data": {
      "text/plain": [
       "dict_items([('apple', 100), ('banana', 200)])"
      ]
     },
     "execution_count": 108,
     "metadata": {},
     "output_type": "execute_result"
    }
   ],
   "source": [
    "myDictionary.items()"
   ]
  },
  {
   "cell_type": "code",
   "execution_count": 109,
   "id": "624a9cc1",
   "metadata": {},
   "outputs": [
    {
     "data": {
      "text/plain": [
       "{1, 2, 3, 4, 5}"
      ]
     },
     "execution_count": 109,
     "metadata": {},
     "output_type": "execute_result"
    }
   ],
   "source": [
    "mySet"
   ]
  },
  {
   "cell_type": "code",
   "execution_count": 110,
   "id": "b56ccccf",
   "metadata": {},
   "outputs": [
    {
     "data": {
      "text/plain": [
       "[1, 2, 3, 4, 5]"
      ]
     },
     "execution_count": 110,
     "metadata": {},
     "output_type": "execute_result"
    }
   ],
   "source": [
    "list(mySet)"
   ]
  },
  {
   "cell_type": "code",
   "execution_count": 111,
   "id": "d56037dd",
   "metadata": {},
   "outputs": [],
   "source": [
    "#error handling"
   ]
  },
  {
   "cell_type": "code",
   "execution_count": 113,
   "id": "c92c121c",
   "metadata": {},
   "outputs": [
    {
     "name": "stdout",
     "output_type": "stream",
     "text": [
      "error\n"
     ]
    }
   ],
   "source": [
    "try:\n",
    "    int(\"atil\")\n",
    "except:\n",
    "    print(\"error\")    "
   ]
  },
  {
   "cell_type": "code",
   "execution_count": 116,
   "id": "ace5f97c",
   "metadata": {},
   "outputs": [
    {
     "name": "stdout",
     "output_type": "stream",
     "text": [
      "enter age: atil\n"
     ]
    }
   ],
   "source": [
    "userAge = input(\"enter age: \")"
   ]
  },
  {
   "cell_type": "code",
   "execution_count": 117,
   "id": "a86d34d0",
   "metadata": {},
   "outputs": [
    {
     "name": "stdout",
     "output_type": "stream",
     "text": [
      "enter age!!\n"
     ]
    }
   ],
   "source": [
    "try:\n",
    "    print(int(userAge) * 2)\n",
    "except:\n",
    "    print(\"enter age!!\")"
   ]
  },
  {
   "cell_type": "code",
   "execution_count": null,
   "id": "585f64c4",
   "metadata": {},
   "outputs": [],
   "source": []
  }
 ],
 "metadata": {
  "kernelspec": {
   "display_name": "Python 3 (ipykernel)",
   "language": "python",
   "name": "python3"
  },
  "language_info": {
   "codemirror_mode": {
    "name": "ipython",
    "version": 3
   },
   "file_extension": ".py",
   "mimetype": "text/x-python",
   "name": "python",
   "nbconvert_exporter": "python",
   "pygments_lexer": "ipython3",
   "version": "3.9.7"
  }
 },
 "nbformat": 4,
 "nbformat_minor": 5
}
