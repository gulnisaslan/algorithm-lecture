{
 "cells": [
  {
   "cell_type": "code",
   "execution_count": 1,
   "id": "471cd720",
   "metadata": {},
   "outputs": [],
   "source": [
    "#range"
   ]
  },
  {
   "cell_type": "code",
   "execution_count": 6,
   "id": "c2e8ed3b",
   "metadata": {},
   "outputs": [
    {
     "data": {
      "text/plain": [
       "[50, 51, 52, 53, 54, 55, 56, 57, 58, 59]"
      ]
     },
     "execution_count": 6,
     "metadata": {},
     "output_type": "execute_result"
    }
   ],
   "source": [
    "list(range(50,60))"
   ]
  },
  {
   "cell_type": "code",
   "execution_count": 7,
   "id": "656eef04",
   "metadata": {},
   "outputs": [],
   "source": [
    "myList = [0,1,2,3,4,5,6,7,8,9]"
   ]
  },
  {
   "cell_type": "code",
   "execution_count": 8,
   "id": "1e528e1d",
   "metadata": {},
   "outputs": [
    {
     "name": "stdout",
     "output_type": "stream",
     "text": [
      "0\n",
      "1\n",
      "2\n",
      "3\n",
      "4\n",
      "5\n",
      "6\n",
      "7\n",
      "8\n",
      "9\n"
     ]
    }
   ],
   "source": [
    "for num in range(0,len(myList)):\n",
    "    print(num)"
   ]
  },
  {
   "cell_type": "code",
   "execution_count": 9,
   "id": "f4f2209f",
   "metadata": {},
   "outputs": [],
   "source": [
    "myList = [\"a\",\"b\",\"c\",\"d\",\"e\"]"
   ]
  },
  {
   "cell_type": "code",
   "execution_count": 12,
   "id": "314c2903",
   "metadata": {},
   "outputs": [
    {
     "name": "stdout",
     "output_type": "stream",
     "text": [
      "0\n",
      "1\n"
     ]
    }
   ],
   "source": [
    "for letter in range(0,len(myList)-3):\n",
    "    print(letter)"
   ]
  },
  {
   "cell_type": "code",
   "execution_count": 16,
   "id": "4f6550e8",
   "metadata": {},
   "outputs": [
    {
     "data": {
      "text/plain": [
       "[0, 20, 40, 60, 80]"
      ]
     },
     "execution_count": 16,
     "metadata": {},
     "output_type": "execute_result"
    }
   ],
   "source": [
    "list(range(0,100,20))"
   ]
  },
  {
   "cell_type": "code",
   "execution_count": 17,
   "id": "463994cd",
   "metadata": {},
   "outputs": [],
   "source": [
    "#enumerate"
   ]
  },
  {
   "cell_type": "code",
   "execution_count": 18,
   "id": "5faa9fdd",
   "metadata": {},
   "outputs": [],
   "source": [
    "myList = list(range(5,15))"
   ]
  },
  {
   "cell_type": "code",
   "execution_count": 19,
   "id": "5c35ea45",
   "metadata": {},
   "outputs": [
    {
     "data": {
      "text/plain": [
       "[5, 6, 7, 8, 9, 10, 11, 12, 13, 14]"
      ]
     },
     "execution_count": 19,
     "metadata": {},
     "output_type": "execute_result"
    }
   ],
   "source": [
    "myList"
   ]
  },
  {
   "cell_type": "code",
   "execution_count": 20,
   "id": "af83708a",
   "metadata": {},
   "outputs": [
    {
     "name": "stdout",
     "output_type": "stream",
     "text": [
      "number: 5 index: 0\n",
      "number: 6 index: 1\n",
      "number: 7 index: 2\n",
      "number: 8 index: 3\n",
      "number: 9 index: 4\n",
      "number: 10 index: 5\n",
      "number: 11 index: 6\n",
      "number: 12 index: 7\n",
      "number: 13 index: 8\n",
      "number: 14 index: 9\n"
     ]
    }
   ],
   "source": [
    "index = 0\n",
    "for number in myList:\n",
    "    print(f\"number: {number} index: {index}\")\n",
    "    index += 1"
   ]
  },
  {
   "cell_type": "code",
   "execution_count": 21,
   "id": "34a86a14",
   "metadata": {},
   "outputs": [
    {
     "name": "stdout",
     "output_type": "stream",
     "text": [
      "(0, 5)\n",
      "(1, 6)\n",
      "(2, 7)\n",
      "(3, 8)\n",
      "(4, 9)\n",
      "(5, 10)\n",
      "(6, 11)\n",
      "(7, 12)\n",
      "(8, 13)\n",
      "(9, 14)\n"
     ]
    }
   ],
   "source": [
    "for element in enumerate(myList):\n",
    "    print(element)"
   ]
  },
  {
   "cell_type": "code",
   "execution_count": 22,
   "id": "c68c9748",
   "metadata": {},
   "outputs": [
    {
     "name": "stdout",
     "output_type": "stream",
     "text": [
      "index: 0 number: 5\n",
      "index: 1 number: 6\n",
      "index: 2 number: 7\n",
      "index: 3 number: 8\n",
      "index: 4 number: 9\n",
      "index: 5 number: 10\n",
      "index: 6 number: 11\n",
      "index: 7 number: 12\n",
      "index: 8 number: 13\n",
      "index: 9 number: 14\n"
     ]
    }
   ],
   "source": [
    "for (index,number) in enumerate(myList):\n",
    "    print(f\"index: {index} number: {number}\")"
   ]
  },
  {
   "cell_type": "code",
   "execution_count": 23,
   "id": "f2963fdb",
   "metadata": {},
   "outputs": [],
   "source": [
    "newList = []"
   ]
  },
  {
   "cell_type": "code",
   "execution_count": 24,
   "id": "7124c5f3",
   "metadata": {},
   "outputs": [],
   "source": [
    "myString = \"atilsamancioglu\""
   ]
  },
  {
   "cell_type": "code",
   "execution_count": 25,
   "id": "1a23055f",
   "metadata": {},
   "outputs": [],
   "source": [
    "for element in myString:\n",
    "    newList.append(element)"
   ]
  },
  {
   "cell_type": "code",
   "execution_count": 26,
   "id": "628782a2",
   "metadata": {},
   "outputs": [
    {
     "data": {
      "text/plain": [
       "['a', 't', 'i', 'l', 's', 'a', 'm', 'a', 'n', 'c', 'i', 'o', 'g', 'l', 'u']"
      ]
     },
     "execution_count": 26,
     "metadata": {},
     "output_type": "execute_result"
    }
   ],
   "source": [
    "newList"
   ]
  },
  {
   "cell_type": "code",
   "execution_count": 27,
   "id": "a169a749",
   "metadata": {},
   "outputs": [],
   "source": [
    "#one liner"
   ]
  },
  {
   "cell_type": "code",
   "execution_count": 28,
   "id": "2fd71cb7",
   "metadata": {},
   "outputs": [],
   "source": [
    "newList = [element for element in myString]"
   ]
  },
  {
   "cell_type": "code",
   "execution_count": 29,
   "id": "4ce7d9c7",
   "metadata": {},
   "outputs": [
    {
     "data": {
      "text/plain": [
       "['a', 't', 'i', 'l', 's', 'a', 'm', 'a', 'n', 'c', 'i', 'o', 'g', 'l', 'u']"
      ]
     },
     "execution_count": 29,
     "metadata": {},
     "output_type": "execute_result"
    }
   ],
   "source": [
    "newList"
   ]
  },
  {
   "cell_type": "code",
   "execution_count": 30,
   "id": "737ed000",
   "metadata": {},
   "outputs": [],
   "source": [
    "#functions"
   ]
  },
  {
   "cell_type": "code",
   "execution_count": 31,
   "id": "ffac6362",
   "metadata": {},
   "outputs": [],
   "source": [
    "def helloPython():\n",
    "    print(\"hello\")\n",
    "    print(\"world\")\n",
    "    print(\"python\")"
   ]
  },
  {
   "cell_type": "code",
   "execution_count": 32,
   "id": "f46e167c",
   "metadata": {},
   "outputs": [
    {
     "name": "stdout",
     "output_type": "stream",
     "text": [
      "hello\n",
      "world\n",
      "python\n"
     ]
    }
   ],
   "source": [
    "helloPython()"
   ]
  },
  {
   "cell_type": "code",
   "execution_count": 33,
   "id": "68f385f6",
   "metadata": {},
   "outputs": [
    {
     "name": "stdout",
     "output_type": "stream",
     "text": [
      "hello\n",
      "world\n",
      "python\n"
     ]
    }
   ],
   "source": [
    "helloPython()"
   ]
  },
  {
   "cell_type": "code",
   "execution_count": 34,
   "id": "6f377133",
   "metadata": {},
   "outputs": [],
   "source": [
    "def helloName(name):\n",
    "    print(f\"hello {name}\")"
   ]
  },
  {
   "cell_type": "code",
   "execution_count": 35,
   "id": "14ed8020",
   "metadata": {},
   "outputs": [
    {
     "name": "stdout",
     "output_type": "stream",
     "text": [
      "hello atıl\n"
     ]
    }
   ],
   "source": [
    "helloName(\"atıl\")"
   ]
  },
  {
   "cell_type": "code",
   "execution_count": 36,
   "id": "73b76749",
   "metadata": {},
   "outputs": [
    {
     "name": "stdout",
     "output_type": "stream",
     "text": [
      "hello james\n"
     ]
    }
   ],
   "source": [
    "helloName(\"james\")"
   ]
  },
  {
   "cell_type": "code",
   "execution_count": 37,
   "id": "f350bcd7",
   "metadata": {},
   "outputs": [],
   "source": [
    "def pythonSum(number1,number2):\n",
    "    print(number1+number2)"
   ]
  },
  {
   "cell_type": "code",
   "execution_count": 38,
   "id": "19dfc52d",
   "metadata": {},
   "outputs": [
    {
     "name": "stdout",
     "output_type": "stream",
     "text": [
      "20\n"
     ]
    }
   ],
   "source": [
    "pythonSum(5,15)"
   ]
  },
  {
   "cell_type": "code",
   "execution_count": 39,
   "id": "c1e06069",
   "metadata": {},
   "outputs": [
    {
     "name": "stdout",
     "output_type": "stream",
     "text": [
      "30\n"
     ]
    }
   ],
   "source": [
    "x = pythonSum(10,20)"
   ]
  },
  {
   "cell_type": "code",
   "execution_count": 40,
   "id": "65f1723d",
   "metadata": {},
   "outputs": [],
   "source": [
    "x"
   ]
  },
  {
   "cell_type": "code",
   "execution_count": 41,
   "id": "ede601c6",
   "metadata": {},
   "outputs": [
    {
     "data": {
      "text/plain": [
       "NoneType"
      ]
     },
     "execution_count": 41,
     "metadata": {},
     "output_type": "execute_result"
    }
   ],
   "source": [
    "type(x)"
   ]
  },
  {
   "cell_type": "code",
   "execution_count": 44,
   "id": "02f772c4",
   "metadata": {},
   "outputs": [
    {
     "name": "stdout",
     "output_type": "stream",
     "text": [
      "x is None\n"
     ]
    }
   ],
   "source": [
    "if x:\n",
    "    print(x)\n",
    "else:\n",
    "    print(\"x is None\")"
   ]
  },
  {
   "cell_type": "code",
   "execution_count": 45,
   "id": "1dc4069b",
   "metadata": {},
   "outputs": [],
   "source": [
    "def returnSum(num1,num2,num3):\n",
    "    print(num1+num2+num3)\n",
    "    return num1+num2+num3"
   ]
  },
  {
   "cell_type": "code",
   "execution_count": 47,
   "id": "6d5d8c1c",
   "metadata": {},
   "outputs": [
    {
     "name": "stdout",
     "output_type": "stream",
     "text": [
      "60\n"
     ]
    }
   ],
   "source": [
    "x = returnSum(10,20,30)"
   ]
  },
  {
   "cell_type": "code",
   "execution_count": 48,
   "id": "c00c6e57",
   "metadata": {},
   "outputs": [
    {
     "data": {
      "text/plain": [
       "60"
      ]
     },
     "execution_count": 48,
     "metadata": {},
     "output_type": "execute_result"
    }
   ],
   "source": [
    "x"
   ]
  },
  {
   "cell_type": "code",
   "execution_count": 49,
   "id": "777958c7",
   "metadata": {},
   "outputs": [
    {
     "data": {
      "text/plain": [
       "int"
      ]
     },
     "execution_count": 49,
     "metadata": {},
     "output_type": "execute_result"
    }
   ],
   "source": [
    "type(x)"
   ]
  },
  {
   "cell_type": "code",
   "execution_count": 50,
   "id": "9441c190",
   "metadata": {},
   "outputs": [],
   "source": [
    "def stringCheck(s):\n",
    "    if s == \"atil\":\n",
    "        print(\"atil\")\n",
    "    else:\n",
    "        print(\"not atil\")"
   ]
  },
  {
   "cell_type": "code",
   "execution_count": 52,
   "id": "7978a743",
   "metadata": {},
   "outputs": [
    {
     "name": "stdout",
     "output_type": "stream",
     "text": [
      "not atil\n"
     ]
    }
   ],
   "source": [
    "stringCheck(\"sdfds\")"
   ]
  },
  {
   "cell_type": "code",
   "execution_count": 54,
   "id": "3986b701",
   "metadata": {},
   "outputs": [],
   "source": [
    "def defaultValueFunction(name=\"Atil\"):\n",
    "    print(name)"
   ]
  },
  {
   "cell_type": "code",
   "execution_count": 56,
   "id": "506c6f75",
   "metadata": {},
   "outputs": [
    {
     "name": "stdout",
     "output_type": "stream",
     "text": [
      "James\n"
     ]
    }
   ],
   "source": [
    "defaultValueFunction(\"James\")"
   ]
  },
  {
   "cell_type": "code",
   "execution_count": null,
   "id": "cb1a9707",
   "metadata": {},
   "outputs": [],
   "source": []
  }
 ],
 "metadata": {
  "kernelspec": {
   "display_name": "Python 3 (ipykernel)",
   "language": "python",
   "name": "python3"
  },
  "language_info": {
   "codemirror_mode": {
    "name": "ipython",
    "version": 3
   },
   "file_extension": ".py",
   "mimetype": "text/x-python",
   "name": "python",
   "nbconvert_exporter": "python",
   "pygments_lexer": "ipython3",
   "version": "3.9.7"
  }
 },
 "nbformat": 4,
 "nbformat_minor": 5
}
